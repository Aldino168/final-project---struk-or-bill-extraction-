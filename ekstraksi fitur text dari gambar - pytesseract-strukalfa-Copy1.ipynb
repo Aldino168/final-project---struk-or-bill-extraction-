{
 "cells": [
  {
   "cell_type": "code",
   "execution_count": 1,
   "id": "c0984acf",
   "metadata": {},
   "outputs": [
    {
     "name": "stdout",
     "output_type": "stream",
     "text": [
      "Collecting pytesseract\n",
      "  Using cached pytesseract-0.3.9-py2.py3-none-any.whl (14 kB)\n",
      "Requirement already satisfied: Pillow>=8.0.0 in c:\\users\\rahmat\\anaconda3\\lib\\site-packages (from pytesseract) (8.2.0)\n",
      "Collecting packaging>=21.3\n",
      "  Using cached packaging-21.3-py3-none-any.whl (40 kB)\n",
      "Requirement already satisfied: pyparsing!=3.0.5,>=2.0.2 in c:\\users\\rahmat\\anaconda3\\lib\\site-packages (from packaging>=21.3->pytesseract) (2.4.7)\n",
      "Installing collected packages: packaging, pytesseract\n",
      "  Attempting uninstall: packaging\n",
      "    Found existing installation: packaging 20.9\n",
      "    Uninstalling packaging-20.9:\n",
      "      Successfully uninstalled packaging-20.9\n",
      "Successfully installed packaging-21.3 pytesseract-0.3.9\n"
     ]
    }
   ],
   "source": [
    "!pip install pytesseract"
   ]
  },
  {
   "cell_type": "code",
   "execution_count": 1,
   "id": "80cb30f1",
   "metadata": {},
   "outputs": [],
   "source": [
    "import pytesseract\n",
    "import argparse\n",
    "import cv2\n",
    "import os\n",
    "import pandas as pd\n",
    "import seaborn as sns\n",
    "import matplotlib.pyplot as plt\n",
    "import numpy as np\n",
    "import csv\n",
    "import nltk\n",
    "import re \n",
    "from nltk.tokenize import word_tokenize \n",
    "from nltk.corpus import wordnet"
   ]
  },
  {
   "cell_type": "code",
   "execution_count": 2,
   "id": "5a390187",
   "metadata": {},
   "outputs": [],
   "source": [
    "from PIL import Image"
   ]
  },
  {
   "cell_type": "code",
   "execution_count": 3,
   "id": "8a8b5cb2",
   "metadata": {},
   "outputs": [],
   "source": [
    "image = cv2.imread(\"dataset-struk-alfa/struk4.jpg\",0 )"
   ]
  },
  {
   "cell_type": "code",
   "execution_count": 4,
   "id": "ad3626e1",
   "metadata": {},
   "outputs": [],
   "source": [
    "pytesseract.pytesseract.tesseract_cmd = \"C:\\\\Users\\\\Rahmat\\\\AppData\\\\Local\\\\Programs\\\\Tesseract-OCR\\\\tesseract.exe\""
   ]
  },
  {
   "cell_type": "code",
   "execution_count": 5,
   "id": "895b580b",
   "metadata": {
    "scrolled": true
   },
   "outputs": [
    {
     "name": "stdout",
     "output_type": "stream",
     "text": [
      "pt. sumber alfaria trijaya, tbk\n",
      "benhil 2 / 081510023453\n",
      "\n",
      "jl mh thahrin nos cikokol\n",
      "nphp : 01.336, 238. 9-054, 000\n",
      "jl. bendungan hilir raya tanah aban\n",
      "bon j532-415-o405x5y3 kasir = kartini\n",
      "\n",
      "kopiko 78c coffe 1 5,900 5,900\n",
      "\n",
      "total iten | 5,900\n",
      "tunai 5,900\n",
      "kenbal ian 0\n",
      "\n",
      "536)\n",
      "\n",
      "tal. 04-05-2015 14:28:32 v.24,03.2015\n",
      "\n",
      "harga bkp sudah termasuk pajak\n",
      "www. alfaonl ine, com\n",
      "\n",
      "kopiko 78 degree dapat mcbil\n",
      "sms:kopiko?8(spasi )a| fanartikadettktpttkot\n",
      "kirim ke 0811 870 6789\n",
      "no. transaksi\n",
      "j53241501 0405x5y3\n",
      "\n",
      "\n"
     ]
    }
   ],
   "source": [
    "text = (pytesseract.image_to_string(image)).lower()\n",
    "print(text)"
   ]
  },
  {
   "cell_type": "code",
   "execution_count": null,
   "id": "1c55f43b",
   "metadata": {},
   "outputs": [],
   "source": []
  },
  {
   "cell_type": "code",
   "execution_count": 6,
   "id": "4570b933",
   "metadata": {},
   "outputs": [
    {
     "name": "stdout",
     "output_type": "stream",
     "text": [
      "04-05-2015\n"
     ]
    }
   ],
   "source": [
    "match = re.findall(r'\\d+[/.-]\\d+[/.-]\\d+',text)\n",
    "st= ''\n",
    "st=st.join(match)\n",
    "print(st)"
   ]
  },
  {
   "cell_type": "code",
   "execution_count": 7,
   "id": "b38370c3",
   "metadata": {},
   "outputs": [],
   "source": [
    "# l = st.split('/')\n",
    "# add=\"20\"\n",
    "# if len(l[0])==2:\n",
    "#     add+=l[0]\n",
    "#     l[0]=add\n",
    "# d='/'\n",
    "# d=d.join(l)\n",
    "# st = d\n",
    "# print(st)"
   ]
  },
  {
   "cell_type": "code",
   "execution_count": 8,
   "id": "4891c0ed",
   "metadata": {},
   "outputs": [
    {
     "name": "stderr",
     "output_type": "stream",
     "text": [
      "[nltk_data] Error loading punkt: <urlopen error [Errno 11001]\n",
      "[nltk_data]     getaddrinfo failed>\n"
     ]
    },
    {
     "data": {
      "text/plain": [
       "False"
      ]
     },
     "execution_count": 8,
     "metadata": {},
     "output_type": "execute_result"
    }
   ],
   "source": [
    "nltk.download('punkt',quiet=True)\n"
   ]
  },
  {
   "cell_type": "code",
   "execution_count": 9,
   "id": "cdd22dc2",
   "metadata": {
    "scrolled": true
   },
   "outputs": [
    {
     "name": "stdout",
     "output_type": "stream",
     "text": [
      "['pt.', 'sumber alfaria trijaya, tbk\\nbenhil 2 / 081510023453\\n\\njl mh thahrin nos cikokol\\nnphp : 01.336, 238.', '9-054, 000\\njl.', 'bendungan hilir raya tanah aban\\nbon j532-415-o405x5y3 kasir = kartini\\n\\nkopiko 78c coffe 1 5,900 5,900\\n\\ntotal iten | 5,900\\ntunai 5,900\\nkenbal ian 0\\n\\n536)\\n\\ntal.', '04-05-2015 14:28:32 v.24,03.2015\\n\\nharga bkp sudah termasuk pajak\\nwww.', 'alfaonl ine, com\\n\\nkopiko 78 degree dapat mcbil\\nsms:kopiko?8(spasi )a| fanartikadettktpttkot\\nkirim ke 0811 870 6789\\nno.', 'transaksi\\nj53241501 0405x5y3']\n"
     ]
    }
   ],
   "source": [
    "sent_tokens = nltk.sent_tokenize(text)\n",
    "print(sent_tokens)"
   ]
  },
  {
   "cell_type": "code",
   "execution_count": 10,
   "id": "4b834bb7",
   "metadata": {
    "scrolled": false
   },
   "outputs": [
    {
     "data": {
      "text/plain": [
       "['pt.',\n",
       " 'sumber alfaria trijaya, tbk\\nbenhil 2 / 081510023453\\n\\njl mh thahrin nos cikokol\\nnphp : 01.336, 238.']"
      ]
     },
     "execution_count": 10,
     "metadata": {},
     "output_type": "execute_result"
    }
   ],
   "source": [
    "sent_tokens[0:2]"
   ]
  },
  {
   "cell_type": "code",
   "execution_count": 11,
   "id": "c6644bcf",
   "metadata": {},
   "outputs": [
    {
     "data": {
      "text/plain": [
       "'pt. sumber alfaria trijaya, tbk\\nbenhil 2 / 081510023453\\n\\njl mh thahrin nos cikokol\\nnphp : 01.336, 238.'"
      ]
     },
     "execution_count": 11,
     "metadata": {},
     "output_type": "execute_result"
    }
   ],
   "source": [
    "\" \".join(sent_tokens[0:2])"
   ]
  },
  {
   "cell_type": "code",
   "execution_count": 12,
   "id": "9e82093f",
   "metadata": {},
   "outputs": [
    {
     "name": "stdout",
     "output_type": "stream",
     "text": [
      "pt. sumber alfaria trijaya, tbk\n"
     ]
    }
   ],
   "source": [
    "for i in \" \".join(sent_tokens[0:2]).split('\\n'):\n",
    "    break\n",
    "head=i\n",
    "print(head)\n",
    "    "
   ]
  },
  {
   "cell_type": "code",
   "execution_count": 13,
   "id": "45329cb9",
   "metadata": {},
   "outputs": [],
   "source": [
    "# price = re.findall(r'USD|EUR|€|\\$)\\s?(\\d{1,3}(?:[.,]\\d{3})*(?:[.,]\\d{2}))|(\\d{1,3}(?:[.,]\\d{3})*(?:[.,]\\d{2})?)\\s?(USD|EUR|€|\\$)',text)\n",
    "# price = list(map(float,price))\n",
    "# print(max(price))\n",
    "# x=max(price)"
   ]
  },
  {
   "cell_type": "code",
   "execution_count": 126,
   "id": "3cf5396a",
   "metadata": {
    "scrolled": false
   },
   "outputs": [
    {
     "name": "stdout",
     "output_type": "stream",
     "text": [
      "5,900\n"
     ]
    }
   ],
   "source": [
    "nyari_total=[]\n",
    "for i in range(len(new_words)):\n",
    "    if new_words[i]=='iten':\n",
    "#         nyari_total.append(new_words[i+1])\n",
    "          break\n",
    "price=new_words[i+2]\n",
    "print(price)\n",
    "x=price\n",
    "# \" \".join(nyari_total)\n",
    "# # price = re.findall(r'(?<![\\d,])((\\d{1,2},)*\\d{3}|(\\d{1,3}))\\.\\d{2}(?!\\d)',nyari_total)\n",
    "# # st= ''\n",
    "# # st=st.join(price)\n",
    "# # print(st)"
   ]
  },
  {
   "cell_type": "code",
   "execution_count": 107,
   "id": "135628be",
   "metadata": {},
   "outputs": [
    {
     "data": {
      "text/plain": [
       "[]"
      ]
     },
     "execution_count": 107,
     "metadata": {},
     "output_type": "execute_result"
    }
   ],
   "source": [
    "a = []\n",
    "for i in (nyari_total):\n",
    "    if re.findall(r'(\\d+(?:\\.\\d{1,2})?)',i):\n",
    "        a.append(i)\n",
    "a      "
   ]
  },
  {
   "cell_type": "code",
   "execution_count": 66,
   "id": "31aef330",
   "metadata": {},
   "outputs": [
    {
     "name": "stdout",
     "output_type": "stream",
     "text": [
      "pembelian\n",
      "diskon\n",
      "1,018,000\n"
     ]
    }
   ],
   "source": [
    "for i in (nyari_total):\n",
    "    print(i)"
   ]
  },
  {
   "cell_type": "code",
   "execution_count": 49,
   "id": "102c1188",
   "metadata": {},
   "outputs": [
    {
     "data": {
      "text/plain": [
       "['pembelian', 'diskon', '1,018,000']"
      ]
     },
     "execution_count": 49,
     "metadata": {},
     "output_type": "execute_result"
    }
   ],
   "source": [
    "nyari_total"
   ]
  },
  {
   "cell_type": "code",
   "execution_count": 125,
   "id": "47c63d26",
   "metadata": {
    "scrolled": true
   },
   "outputs": [
    {
     "name": "stdout",
     "output_type": "stream",
     "text": [
      "['pt', '.', 'sumber', 'alfaria', 'trijaya', ',', 'tbk', 'benhil', '2', '/', '081510023453', 'jl', 'mh', 'thahrin', 'nos', 'cikokol', 'nphp', ':', '01.336', ',', '238', '.', '9-054', ',', '000', 'jl', '.', 'bendungan', 'hilir', 'raya', 'tanah', 'aban', 'bon', 'j532-415-o405x5y3', 'kasir', '=', 'kartini', 'kopiko', '78c', 'coffe', '1', '5,900', '5,900', 'total', 'iten', '|', '5,900', 'tunai', '5,900', 'kenbal', 'ian', '0', '536', ')', 'tal', '.', '04-05-2015', '14:28:32', 'v.24,03.2015', 'harga', 'bkp', 'sudah', 'termasuk', 'pajak', 'www', '.', 'alfaonl', 'ine', ',', 'com', 'kopiko', '78', 'degree', 'dapat', 'mcbil', 'sms', ':', 'kopiko', '?', '8', '(', 'spasi', ')', 'a|', 'fanartikadettktpttkot', 'kirim', 'ke', '0811', '870', '6789', 'no', '.', 'transaksi', 'j53241501', '0405x5y3']\n"
     ]
    }
   ],
   "source": [
    "new_words = word_tokenize(text)\n",
    "print(word_tokenize(text))"
   ]
  },
  {
   "cell_type": "code",
   "execution_count": 46,
   "id": "3ab92816",
   "metadata": {},
   "outputs": [
    {
     "name": "stdout",
     "output_type": "stream",
     "text": [
      "['pt', 'sumber', 'alfaria', 'trijaya', 'tbk', 'cimuja', '4', 'jl', 'hh', 'thamrin', 'no', '9', 'cikokol', 'nphp', '01', '336', '238', '9', '054', '000', 'jl', 'raya', 'sumedang', 'cirebon', 'no', 'kec', 'cihal', 'bon', '8989', '205', '2107hkh3', 'kasir', 'alfa', 'air', 'hnrl', '1', '4', '3', '400', '13', '600', 'shapes', 'chzdbk', '18', '100', '8', '100', 'tsel', 'pulsa', '50k', '1', '51', '000', '51', '000', 'lotal', 'iten', '3', '72', '700', 'nai', '72', '700', 'erbal', 'ian', '0', 'pn', 'ukti', 'transaksi', 'voucher']\n"
     ]
    }
   ],
   "source": [
    "tokenizer = nltk.RegexpTokenizer(r'\\w+')\n",
    "new_words = tokenizer.tokenize(text)\n",
    "print(new_words)"
   ]
  },
  {
   "cell_type": "code",
   "execution_count": 127,
   "id": "5b21811a",
   "metadata": {
    "scrolled": true
   },
   "outputs": [
    {
     "name": "stdout",
     "output_type": "stream",
     "text": [
      "['pt', '.', 'sumber', 'alfaria', 'trijaya', ',', 'tbk', 'benhil', '2', '/', '081510023453', 'jl', 'mh', 'thahrin', 'nos', 'cikokol', 'nphp', ':', '01.336', ',', '238', '.', '9-054', ',', '000', 'jl', '.', 'bendungan', 'hilir', 'raya', 'tanah', 'aban', 'bon', 'j532-415-o405x5y3', 'kasir', '=', 'kartini', 'kopiko', '78c', 'coffe', '1', '5,900', '5,900', 'total']\n"
     ]
    }
   ],
   "source": [
    "nyari_jenis=[]\n",
    "for i in range(len(new_words)):\n",
    "    nyari_jenis.append(new_words[i])\n",
    "    if new_words[i]=='total':\n",
    "#         nyari_total.append(new_words[i+1])\n",
    "          break\n",
    "jenis = nyari_jenis\n",
    "print(jenis)"
   ]
  },
  {
   "cell_type": "code",
   "execution_count": 128,
   "id": "005f25ec",
   "metadata": {},
   "outputs": [
    {
     "name": "stdout",
     "output_type": "stream",
     "text": [
      "['pt', '.', 'sumber', 'alfaria', 'trijaya', ',', 'tbk', 'benhil', '2', '/', '081510023453', 'jl', 'mh', 'thahrin', 'nos', 'cikokol', 'nphp', ':', '01.336', ',', '238', '.', '9-054', ',', '000', 'jl', '.', 'bendungan', 'hilir', 'raya', 'tanah', 'aban', 'bon', 'j532-415-o405x5y3', 'kasir']\n"
     ]
    }
   ],
   "source": [
    "nyari_jenisnharga=[]\n",
    "for i in range(len(nyari_jenis)):\n",
    "    nyari_jenisnharga.append(nyari_jenis[i])\n",
    "    if nyari_jenis[i]=='kasir' :\n",
    "        break\n",
    "        \n",
    "print(nyari_jenisnharga)"
   ]
  },
  {
   "cell_type": "code",
   "execution_count": 129,
   "id": "f61d1ced",
   "metadata": {
    "scrolled": true
   },
   "outputs": [
    {
     "data": {
      "text/plain": [
       "['=', 'kartini', 'kopiko', '78c', 'coffe', '1', '5,900', '5,900', 'total']"
      ]
     },
     "execution_count": 129,
     "metadata": {},
     "output_type": "execute_result"
    }
   ],
   "source": [
    "tokens = [token for token in nyari_jenis if token not in nyari_jenisnharga]\n",
    "tokens"
   ]
  },
  {
   "cell_type": "code",
   "execution_count": 146,
   "id": "12ae6250",
   "metadata": {
    "scrolled": true
   },
   "outputs": [
    {
     "data": {
      "text/plain": [
       "['kartini', 'kopiko', 'coffe', 'total']"
      ]
     },
     "execution_count": 146,
     "metadata": {},
     "output_type": "execute_result"
    }
   ],
   "source": [
    "words = [token for token in tokens if  token not in a]\n",
    "words = [token for token in words if token.isalnum()]\n",
    "words"
   ]
  },
  {
   "cell_type": "code",
   "execution_count": 133,
   "id": "7259296b",
   "metadata": {},
   "outputs": [
    {
     "data": {
      "text/plain": [
       "['78c', '1', '5,900', '5,900']"
      ]
     },
     "execution_count": 133,
     "metadata": {},
     "output_type": "execute_result"
    }
   ],
   "source": [
    "a = []\n",
    "for i in (tokens):\n",
    "    if re.findall(r'(\\d+(?:\\.\\d{1,2})?)',i):\n",
    "        a.append(i)\n",
    "a"
   ]
  },
  {
   "cell_type": "markdown",
   "id": "d088fe3c",
   "metadata": {},
   "source": [
    "---"
   ]
  },
  {
   "cell_type": "markdown",
   "id": "6c85f253",
   "metadata": {},
   "source": [
    "# dari sini naf"
   ]
  },
  {
   "cell_type": "code",
   "execution_count": null,
   "id": "fed9278d",
   "metadata": {},
   "outputs": [],
   "source": []
  },
  {
   "cell_type": "code",
   "execution_count": 14,
   "id": "18acaf47",
   "metadata": {},
   "outputs": [],
   "source": [
    "image = cv2.imread(\"dataset-struk-alfa/struk4.jpg\",0 )"
   ]
  },
  {
   "cell_type": "code",
   "execution_count": 15,
   "id": "95f7d552",
   "metadata": {},
   "outputs": [],
   "source": [
    "pytesseract.pytesseract.tesseract_cmd = \"C:\\\\Users\\\\Rahmat\\\\AppData\\\\Local\\\\Programs\\\\Tesseract-OCR\\\\tesseract.exe\""
   ]
  },
  {
   "cell_type": "code",
   "execution_count": 16,
   "id": "cc819ea8",
   "metadata": {
    "scrolled": true
   },
   "outputs": [
    {
     "name": "stdout",
     "output_type": "stream",
     "text": [
      "pt. sumber alfaria trijaya, tbk\n",
      "benhil 2 / 081510023453\n",
      "\n",
      "jl mh thahrin nos cikokol\n",
      "nphp : 01.336, 238. 9-054, 000\n",
      "jl. bendungan hilir raya tanah aban\n",
      "bon j532-415-o405x5y3 kasir = kartini\n",
      "\n",
      "kopiko 78c coffe 1 5,900 5,900\n",
      "\n",
      "total iten | 5,900\n",
      "tunai 5,900\n",
      "kenbal ian 0\n",
      "\n",
      "536)\n",
      "\n",
      "tal. 04-05-2015 14:28:32 v.24,03.2015\n",
      "\n",
      "harga bkp sudah termasuk pajak\n",
      "www. alfaonl ine, com\n",
      "\n",
      "kopiko 78 degree dapat mcbil\n",
      "sms:kopiko?8(spasi )a| fanartikadettktpttkot\n",
      "kirim ke 0811 870 6789\n",
      "no. transaksi\n",
      "j53241501 0405x5y3\n",
      "\n",
      "\n"
     ]
    }
   ],
   "source": [
    "text = (pytesseract.image_to_string(image)).lower()\n",
    "print(text)"
   ]
  },
  {
   "cell_type": "code",
   "execution_count": null,
   "id": "e7742386",
   "metadata": {},
   "outputs": [],
   "source": []
  },
  {
   "cell_type": "code",
   "execution_count": 17,
   "id": "a256d85c",
   "metadata": {},
   "outputs": [
    {
     "name": "stdout",
     "output_type": "stream",
     "text": [
      "04-05-2015\n"
     ]
    }
   ],
   "source": [
    "match = re.findall(r'\\d+[/.-]\\d+[/.-]\\d+',text)\n",
    "st= ''\n",
    "st=st.join(match)\n",
    "print(st)"
   ]
  },
  {
   "cell_type": "code",
   "execution_count": 18,
   "id": "f30e815e",
   "metadata": {},
   "outputs": [],
   "source": [
    "# l = st.split('/')\n",
    "# add=\"20\"\n",
    "# if len(l[0])==2:\n",
    "#     add+=l[0]\n",
    "#     l[0]=add\n",
    "# d='/'\n",
    "# d=d.join(l)\n",
    "# st = d\n",
    "# print(st)"
   ]
  },
  {
   "cell_type": "code",
   "execution_count": 19,
   "id": "0ed6ab02",
   "metadata": {},
   "outputs": [
    {
     "name": "stderr",
     "output_type": "stream",
     "text": [
      "[nltk_data] Error loading punkt: <urlopen error [Errno 11001]\n",
      "[nltk_data]     getaddrinfo failed>\n"
     ]
    },
    {
     "data": {
      "text/plain": [
       "False"
      ]
     },
     "execution_count": 19,
     "metadata": {},
     "output_type": "execute_result"
    }
   ],
   "source": [
    "nltk.download('punkt',quiet=True)\n"
   ]
  },
  {
   "cell_type": "code",
   "execution_count": 20,
   "id": "c6dd233d",
   "metadata": {
    "scrolled": false
   },
   "outputs": [
    {
     "name": "stdout",
     "output_type": "stream",
     "text": [
      "['pt.', 'sumber alfaria trijaya, tbk\\nbenhil 2 / 081510023453\\n\\njl mh thahrin nos cikokol\\nnphp : 01.336, 238.', '9-054, 000\\njl.', 'bendungan hilir raya tanah aban\\nbon j532-415-o405x5y3 kasir = kartini\\n\\nkopiko 78c coffe 1 5,900 5,900\\n\\ntotal iten | 5,900\\ntunai 5,900\\nkenbal ian 0\\n\\n536)\\n\\ntal.', '04-05-2015 14:28:32 v.24,03.2015\\n\\nharga bkp sudah termasuk pajak\\nwww.', 'alfaonl ine, com\\n\\nkopiko 78 degree dapat mcbil\\nsms:kopiko?8(spasi )a| fanartikadettktpttkot\\nkirim ke 0811 870 6789\\nno.', 'transaksi\\nj53241501 0405x5y3']\n"
     ]
    }
   ],
   "source": [
    "sent_tokens = nltk.sent_tokenize(text)\n",
    "print(sent_tokens)"
   ]
  },
  {
   "cell_type": "code",
   "execution_count": 21,
   "id": "91773ddb",
   "metadata": {
    "scrolled": true
   },
   "outputs": [
    {
     "data": {
      "text/plain": [
       "['bendungan hilir raya tanah aban\\nbon j532-415-o405x5y3 kasir = kartini\\n\\nkopiko 78c coffe 1 5,900 5,900\\n\\ntotal iten | 5,900\\ntunai 5,900\\nkenbal ian 0\\n\\n536)\\n\\ntal.']"
      ]
     },
     "execution_count": 21,
     "metadata": {},
     "output_type": "execute_result"
    }
   ],
   "source": [
    "nyari_pakain=[]\n",
    "for i in sent_tokens:\n",
    "    if \"kasir\" in i:\n",
    "        nyari_pakain.append(i)\n",
    "nyari_pakain"
   ]
  },
  {
   "cell_type": "code",
   "execution_count": 22,
   "id": "ab6e4c04",
   "metadata": {
    "scrolled": true
   },
   "outputs": [
    {
     "data": {
      "text/plain": [
       "['bendungan hilir raya tanah aban',\n",
       " 'bon j532-415-o405x5y3 kasir = kartini',\n",
       " '',\n",
       " 'kopiko 78c coffe 1 5,900 5,900',\n",
       " '',\n",
       " 'total iten | 5,900',\n",
       " 'tunai 5,900',\n",
       " 'kenbal ian 0',\n",
       " '',\n",
       " '536)',\n",
       " '',\n",
       " 'tal.']"
      ]
     },
     "execution_count": 22,
     "metadata": {},
     "output_type": "execute_result"
    }
   ],
   "source": [
    "hasil_nyari_pakain=nyari_pakain[0].split(\"\\n\")\n",
    "hasil_nyari_pakain"
   ]
  },
  {
   "cell_type": "code",
   "execution_count": 23,
   "id": "b8ae9c2a",
   "metadata": {},
   "outputs": [
    {
     "data": {
      "text/plain": [
       "['tal.',\n",
       " 'bendungan hilir raya tanah aban',\n",
       " 'bon j532-415-o405x5y3 kasir = kartini',\n",
       " '',\n",
       " 'kopiko 78c coffe 1 5,900 5,900',\n",
       " '']"
      ]
     },
     "execution_count": 23,
     "metadata": {},
     "output_type": "execute_result"
    }
   ],
   "source": [
    "# nyari_jenis=[]\n",
    "# for i in range(len(new_words)):\n",
    "#     nyari_jenis.append(new_words[i])\n",
    "#     if new_words[i]=='total':\n",
    "# #         nyari_total.append(new_words[i+1])\n",
    "#           break\n",
    "# jenis = nyari_jenis\n",
    "# print(jenis)\n",
    "hasil=[]\n",
    "for i in range(len(hasil_nyari_pakain)):\n",
    "    hasil.append(hasil_nyari_pakain[i-1])\n",
    "    if \"total\" in hasil_nyari_pakain[i]:\n",
    "        break\n",
    "        \n",
    "hasil"
   ]
  },
  {
   "cell_type": "code",
   "execution_count": 24,
   "id": "a9344735",
   "metadata": {},
   "outputs": [
    {
     "data": {
      "text/plain": [
       "['tal.',\n",
       " 'bendungan hilir raya tanah aban',\n",
       " 'bon j532-415-o405x5y3 kasir = kartini']"
      ]
     },
     "execution_count": 24,
     "metadata": {},
     "output_type": "execute_result"
    }
   ],
   "source": [
    "# nyari_jenisnharga=[]\n",
    "# for i in range(len(nyari_jenis)):\n",
    "#     nyari_jenisnharga.append(nyari_jenis[i])\n",
    "#     if nyari_jenis[i]=='kasir' :\n",
    "#         break\n",
    "        \n",
    "# print(nyari_jenisnharga)\n",
    "\n",
    "kasir=[]\n",
    "for i in range(len(hasil)):\n",
    "    kasir.append(hasil[i])\n",
    "    if \"kasir\" in hasil[i]:\n",
    "        \n",
    "        break\n",
    "        \n",
    "kasir\n",
    "# kasir=[]\n",
    "# for i in range(len(hasil)):\n",
    "#     kasir.append(hasil[i])\n",
    "#     if hasil[i]=='kasir' :\n",
    "#         break\n",
    "        \n",
    "# print(kasir)"
   ]
  },
  {
   "cell_type": "code",
   "execution_count": 25,
   "id": "54e37979",
   "metadata": {
    "scrolled": true
   },
   "outputs": [
    {
     "data": {
      "text/plain": [
       "['', 'kopiko 78c coffe 1 5,900 5,900', '']"
      ]
     },
     "execution_count": 25,
     "metadata": {},
     "output_type": "execute_result"
    }
   ],
   "source": [
    "tokens = [token for token in hasil if token not in kasir]\n",
    "tokens"
   ]
  },
  {
   "cell_type": "code",
   "execution_count": null,
   "id": "76c430a3",
   "metadata": {},
   "outputs": [],
   "source": []
  },
  {
   "cell_type": "code",
   "execution_count": 26,
   "id": "482d7bc9",
   "metadata": {
    "scrolled": true
   },
   "outputs": [
    {
     "data": {
      "text/plain": [
       "['kopiko 78c coffe 1 5,900 5,900']"
      ]
     },
     "execution_count": 26,
     "metadata": {},
     "output_type": "execute_result"
    }
   ],
   "source": [
    "a = []\n",
    "for i in (tokens):\n",
    "    if re.findall(r'(\\d+(?:\\.\\d{1,2})?)',i):\n",
    "        a.append(i)\n",
    "a"
   ]
  },
  {
   "cell_type": "code",
   "execution_count": 27,
   "id": "9cb7c086",
   "metadata": {
    "scrolled": true
   },
   "outputs": [
    {
     "data": {
      "text/plain": [
       "['kopiko 78c coffe 1 5,900 5,900']"
      ]
     },
     "execution_count": 27,
     "metadata": {},
     "output_type": "execute_result"
    }
   ],
   "source": [
    "a"
   ]
  },
  {
   "cell_type": "markdown",
   "id": "e8159b22",
   "metadata": {},
   "source": [
    "# dapet fitur jenis belanjaan nya naf"
   ]
  },
  {
   "cell_type": "code",
   "execution_count": 28,
   "id": "e05684c3",
   "metadata": {},
   "outputs": [
    {
     "name": "stdout",
     "output_type": "stream",
     "text": [
      "['kopiko', '78c', 'coffe', '1', '5,900', '5,900', 'angka']\n",
      "kopiko\n",
      "78c\n",
      "coffe\n",
      "1\n",
      "5,900\n",
      "5,900\n",
      "angka\n"
     ]
    },
    {
     "data": {
      "text/plain": [
       "['kopiko', '78c', 'coffe', '1', 'angka']"
      ]
     },
     "execution_count": 28,
     "metadata": {},
     "output_type": "execute_result"
    }
   ],
   "source": [
    "# for i in range(len(a)):\n",
    "#     j = word_tokenize(a[i])+[\"\\n\"]\n",
    "#     print(j)\n",
    "#     for k in range(len(m[i])):\n",
    "#         if m[i][k].isalnum():\n",
    "#             print(m[i][k])\n",
    "words = []            \n",
    "for i in range(len(a)):\n",
    "    j = word_tokenize(a[i])+[\"angka\"]\n",
    "    print(j)\n",
    "    for k in range(len(j)):\n",
    "        print(j[k])\n",
    "        if j[k].isalnum():\n",
    "            words.append(j[k])\n",
    "words"
   ]
  },
  {
   "cell_type": "code",
   "execution_count": 29,
   "id": "88727dd7",
   "metadata": {},
   "outputs": [
    {
     "data": {
      "text/plain": [
       "['kopiko 78c coffe 1 ', '']"
      ]
     },
     "execution_count": 29,
     "metadata": {},
     "output_type": "execute_result"
    }
   ],
   "source": [
    "f = \" \".join(words)\n",
    "f.split(\"angka\")"
   ]
  },
  {
   "cell_type": "markdown",
   "id": "ae8e6e0d",
   "metadata": {},
   "source": [
    "# sampe sini, tinggal mikirin cara ambil harga per jenis"
   ]
  },
  {
   "cell_type": "code",
   "execution_count": 35,
   "id": "a6195c55",
   "metadata": {
    "scrolled": false
   },
   "outputs": [
    {
     "data": {
      "text/plain": [
       "['5,900', '5,900', '999,999']"
      ]
     },
     "execution_count": 35,
     "metadata": {},
     "output_type": "execute_result"
    }
   ],
   "source": [
    "# angka = []            \n",
    "# for i in range(len(a)):\n",
    "#     j = word_tokenize(a[i])+[99999]\n",
    "#     print(j)\n",
    "#     for k in range(len(j)):\n",
    "#         print(j[k])\n",
    "#         if re.findall(r'(\\d+(?:\\.\\d{1,2})?)',j[k]):\n",
    "#             angka.append(j[k])\n",
    "# angka\n",
    "selain_words = []\n",
    "for i in range(len(a)):\n",
    "    j = word_tokenize(a[i])+[\"999,999\"]\n",
    "#     print(j)\n",
    "    for k in range(len(j)):\n",
    "#         print(j[k])\n",
    "        if re.findall(r'([0-9]{1,3}(?=\\,))',j[k]):\n",
    "            selain_words.append(j[k])\n",
    "selain_words"
   ]
  },
  {
   "cell_type": "code",
   "execution_count": 36,
   "id": "346585bb",
   "metadata": {},
   "outputs": [
    {
     "data": {
      "text/plain": [
       "['5,900 5,900 ', '']"
      ]
     },
     "execution_count": 36,
     "metadata": {},
     "output_type": "execute_result"
    }
   ],
   "source": [
    "harga = \" \".join(selain_words)\n",
    "harga.split(\"999,999\")"
   ]
  },
  {
   "cell_type": "markdown",
   "id": "24c30386",
   "metadata": {},
   "source": [
    "---"
   ]
  },
  {
   "cell_type": "code",
   "execution_count": 417,
   "id": "10228c19",
   "metadata": {
    "scrolled": false
   },
   "outputs": [
    {
     "name": "stdout",
     "output_type": "stream",
     "text": [
      "51,000\n"
     ]
    }
   ],
   "source": [
    "m = []\n",
    "n= []\n",
    "for i in range(len(a)):\n",
    "    j = word_tokenize(a[i])\n",
    "    m.append(j)\n",
    "# print(j)\n",
    "for k in range(len(m)):\n",
    "# #     print (m[k], end=\"|\")\n",
    "#     st = list(str(m[k]).split(\"|\"))\n",
    "#     print( st)\n",
    "    for j in range(len(m[k])):\n",
    "        if (m[k][j]).isalnum():\n",
    "            m[i][j]\n",
    "            continue\n",
    "print(m[i][j])\n",
    "# for token in n:\n",
    "#     if token.isalnum():\n",
    "#         print(token, end=\" \")\n",
    "# tokens = [token for token in n if token.isalnum()]\n",
    "# print(\"kata\",tokens)\n",
    "# n=[]\n",
    "\n",
    "# for i in range(len(m)):\n",
    "#     for j in range(len(m[i])):\n",
    "#         print(m[j])\n",
    "#         print(m[i][j])\n",
    "# for k in m:\n",
    "#     print(k)\n",
    "#     if m[k].isalnum():\n",
    "#         print(m)\n",
    "#     re.findall(' [0-9]+', m[0])\n",
    "#     for j in range(len(i)):\n",
    "#         if j[i].isalnum():\n",
    "#             m.append(j)\n",
    "# numbers = re.findall(' [0-9]+', j)\n",
    "# print(m)\n",
    "# n"
   ]
  },
  {
   "cell_type": "code",
   "execution_count": 434,
   "id": "c59a10e6",
   "metadata": {},
   "outputs": [
    {
     "ename": "TypeError",
     "evalue": "object of type 'int' has no len()",
     "output_type": "error",
     "traceback": [
      "\u001b[1;31m---------------------------------------------------------------------------\u001b[0m",
      "\u001b[1;31mTypeError\u001b[0m                                 Traceback (most recent call last)",
      "\u001b[1;32m<ipython-input-434-770bc9443edf>\u001b[0m in \u001b[0;36m<module>\u001b[1;34m\u001b[0m\n\u001b[0;32m      2\u001b[0m \u001b[1;32mfor\u001b[0m \u001b[0mk\u001b[0m \u001b[1;32min\u001b[0m \u001b[0mrange\u001b[0m\u001b[1;33m(\u001b[0m\u001b[0mlen\u001b[0m\u001b[1;33m(\u001b[0m\u001b[0mm\u001b[0m\u001b[1;33m)\u001b[0m\u001b[1;33m)\u001b[0m\u001b[1;33m:\u001b[0m\u001b[1;33m\u001b[0m\u001b[1;33m\u001b[0m\u001b[0m\n\u001b[0;32m      3\u001b[0m     \u001b[1;32mfor\u001b[0m \u001b[0mj\u001b[0m \u001b[1;32min\u001b[0m \u001b[0mrange\u001b[0m\u001b[1;33m(\u001b[0m\u001b[0mlen\u001b[0m\u001b[1;33m(\u001b[0m\u001b[0mm\u001b[0m\u001b[1;33m[\u001b[0m\u001b[0mk\u001b[0m\u001b[1;33m]\u001b[0m\u001b[1;33m)\u001b[0m\u001b[1;33m)\u001b[0m\u001b[1;33m:\u001b[0m\u001b[1;33m\u001b[0m\u001b[1;33m\u001b[0m\u001b[0m\n\u001b[1;32m----> 4\u001b[1;33m         \u001b[0mprint\u001b[0m\u001b[1;33m(\u001b[0m\u001b[0mm\u001b[0m\u001b[1;33m[\u001b[0m\u001b[0mlen\u001b[0m\u001b[1;33m(\u001b[0m\u001b[0mk\u001b[0m\u001b[1;33m)\u001b[0m\u001b[1;33m]\u001b[0m\u001b[1;33m)\u001b[0m\u001b[1;33m\u001b[0m\u001b[1;33m\u001b[0m\u001b[0m\n\u001b[0m\u001b[0;32m      5\u001b[0m         \u001b[1;32mif\u001b[0m \u001b[1;33m(\u001b[0m\u001b[0mm\u001b[0m\u001b[1;33m[\u001b[0m\u001b[0mk\u001b[0m\u001b[1;33m]\u001b[0m\u001b[1;33m[\u001b[0m\u001b[0mj\u001b[0m\u001b[1;33m]\u001b[0m\u001b[1;33m)\u001b[0m\u001b[1;33m.\u001b[0m\u001b[0misalnum\u001b[0m\u001b[1;33m(\u001b[0m\u001b[1;33m)\u001b[0m\u001b[1;33m:\u001b[0m\u001b[1;33m\u001b[0m\u001b[1;33m\u001b[0m\u001b[0m\n\u001b[0;32m      6\u001b[0m             \u001b[0mh\u001b[0m\u001b[1;33m.\u001b[0m\u001b[0mappend\u001b[0m\u001b[1;33m(\u001b[0m\u001b[0mm\u001b[0m\u001b[1;33m[\u001b[0m\u001b[0mk\u001b[0m\u001b[1;33m]\u001b[0m\u001b[1;33m[\u001b[0m\u001b[0mj\u001b[0m\u001b[1;33m]\u001b[0m\u001b[1;33m)\u001b[0m\u001b[1;33m\u001b[0m\u001b[1;33m\u001b[0m\u001b[0m\n",
      "\u001b[1;31mTypeError\u001b[0m: object of type 'int' has no len()"
     ]
    }
   ],
   "source": [
    "h=[]\n",
    "for k in range(len(m)):\n",
    "    for j in range(len(m[k])):\n",
    "        if (m[k][j]).isalnum():\n",
    "            h.append(m[k][j])\n",
    "            h.append(\"a\")\n",
    "print(h)"
   ]
  },
  {
   "cell_type": "markdown",
   "id": "6ffdcbd9",
   "metadata": {},
   "source": [
    "# sampe sini aja"
   ]
  },
  {
   "cell_type": "code",
   "execution_count": 125,
   "id": "8d0b713e",
   "metadata": {
    "scrolled": true
   },
   "outputs": [
    {
     "name": "stdout",
     "output_type": "stream",
     "text": [
      "['pt', '.', 'sumber', 'alfaria', 'trijaya', ',', 'tbk', 'benhil', '2', '/', '081510023453', 'jl', 'mh', 'thahrin', 'nos', 'cikokol', 'nphp', ':', '01.336', ',', '238', '.', '9-054', ',', '000', 'jl', '.', 'bendungan', 'hilir', 'raya', 'tanah', 'aban', 'bon', 'j532-415-o405x5y3', 'kasir', '=', 'kartini', 'kopiko', '78c', 'coffe', '1', '5,900', '5,900', 'total', 'iten', '|', '5,900', 'tunai', '5,900', 'kenbal', 'ian', '0', '536', ')', 'tal', '.', '04-05-2015', '14:28:32', 'v.24,03.2015', 'harga', 'bkp', 'sudah', 'termasuk', 'pajak', 'www', '.', 'alfaonl', 'ine', ',', 'com', 'kopiko', '78', 'degree', 'dapat', 'mcbil', 'sms', ':', 'kopiko', '?', '8', '(', 'spasi', ')', 'a|', 'fanartikadettktpttkot', 'kirim', 'ke', '0811', '870', '6789', 'no', '.', 'transaksi', 'j53241501', '0405x5y3']\n"
     ]
    }
   ],
   "source": [
    "new_words = word_tokenize(text)\n",
    "print(word_tokenize(text))"
   ]
  },
  {
   "cell_type": "code",
   "execution_count": 46,
   "id": "4f328552",
   "metadata": {},
   "outputs": [
    {
     "name": "stdout",
     "output_type": "stream",
     "text": [
      "['pt', 'sumber', 'alfaria', 'trijaya', 'tbk', 'cimuja', '4', 'jl', 'hh', 'thamrin', 'no', '9', 'cikokol', 'nphp', '01', '336', '238', '9', '054', '000', 'jl', 'raya', 'sumedang', 'cirebon', 'no', 'kec', 'cihal', 'bon', '8989', '205', '2107hkh3', 'kasir', 'alfa', 'air', 'hnrl', '1', '4', '3', '400', '13', '600', 'shapes', 'chzdbk', '18', '100', '8', '100', 'tsel', 'pulsa', '50k', '1', '51', '000', '51', '000', 'lotal', 'iten', '3', '72', '700', 'nai', '72', '700', 'erbal', 'ian', '0', 'pn', 'ukti', 'transaksi', 'voucher']\n"
     ]
    }
   ],
   "source": [
    "tokenizer = nltk.RegexpTokenizer(r'\\w+')\n",
    "new_words = tokenizer.tokenize(text)\n",
    "print(new_words)"
   ]
  },
  {
   "cell_type": "code",
   "execution_count": 210,
   "id": "8c10c83d",
   "metadata": {
    "scrolled": true
   },
   "outputs": [
    {
     "name": "stdout",
     "output_type": "stream",
     "text": [
      "['voucher', 'pt', '.', 'sumber', 'alfaria', 'trijaya', ',', 'tbk', 'cimuja', '/', '4', 'jl', 'hh', 'thamrin', 'no', '9', 'cikokol', ':', 'nphp', '+', '01.336,238,9-054.000', 'jl', '.', 'raya', 'sumedang', 'cirebon', 'no', '.', 'kec', '.', 'cihal', 'bon', '8989-205-2107hkh3', 'kasir', 'alfa', 'air', 'hnrl', '1', '4', '3,400', '13,600', 'shapes', 'chzdbk', '=', '18,100', '8,100', 'tsel', 'pulsa', '50k', '1', '51,000', '51,000', 'lotal', 'iten', '3', '72,700', 'nai', '72,700', '(', 'erbal', 'ian', '0', 'pn', '(', 'ukti', 'transaksi']\n"
     ]
    }
   ],
   "source": [
    "nyari_jenis=[]\n",
    "for i in range(len(new_words)):\n",
    "    nyari_jenis.append(new_words[i-1])\n",
    "    if new_words[i]=='total':\n",
    "#         nyari_total.append(new_words[i+1])\n",
    "          break\n",
    "jenis = nyari_jenis\n",
    "print(jenis)"
   ]
  },
  {
   "cell_type": "code",
   "execution_count": 128,
   "id": "1a847b83",
   "metadata": {},
   "outputs": [
    {
     "name": "stdout",
     "output_type": "stream",
     "text": [
      "['pt', '.', 'sumber', 'alfaria', 'trijaya', ',', 'tbk', 'benhil', '2', '/', '081510023453', 'jl', 'mh', 'thahrin', 'nos', 'cikokol', 'nphp', ':', '01.336', ',', '238', '.', '9-054', ',', '000', 'jl', '.', 'bendungan', 'hilir', 'raya', 'tanah', 'aban', 'bon', 'j532-415-o405x5y3', 'kasir']\n"
     ]
    }
   ],
   "source": [
    "nyari_jenisnharga=[]\n",
    "for i in range(len(nyari_jenis)):\n",
    "    nyari_jenisnharga.append(nyari_jenis[i])\n",
    "    if nyari_jenis[i]=='kasir' :\n",
    "        break\n",
    "        \n",
    "print(nyari_jenisnharga)"
   ]
  },
  {
   "cell_type": "code",
   "execution_count": 129,
   "id": "9bd267cb",
   "metadata": {
    "scrolled": true
   },
   "outputs": [
    {
     "data": {
      "text/plain": [
       "['=', 'kartini', 'kopiko', '78c', 'coffe', '1', '5,900', '5,900', 'total']"
      ]
     },
     "execution_count": 129,
     "metadata": {},
     "output_type": "execute_result"
    }
   ],
   "source": [
    "tokens = [token for token in nyari_jenis if token not in nyari_jenisnharga]\n",
    "tokens"
   ]
  },
  {
   "cell_type": "code",
   "execution_count": 146,
   "id": "f2cb13a4",
   "metadata": {
    "scrolled": true
   },
   "outputs": [
    {
     "data": {
      "text/plain": [
       "['kartini', 'kopiko', 'coffe', 'total']"
      ]
     },
     "execution_count": 146,
     "metadata": {},
     "output_type": "execute_result"
    }
   ],
   "source": [
    "words = [token for token in tokens if  token not in a]\n",
    "words = [token for token in words if token.isalnum()]\n",
    "words"
   ]
  },
  {
   "cell_type": "code",
   "execution_count": 133,
   "id": "4f7b1cb3",
   "metadata": {},
   "outputs": [
    {
     "data": {
      "text/plain": [
       "['78c', '1', '5,900', '5,900']"
      ]
     },
     "execution_count": 133,
     "metadata": {},
     "output_type": "execute_result"
    }
   ],
   "source": [
    "a = []\n",
    "for i in (tokens):\n",
    "    if re.findall(r'(\\d+(?:\\.\\d{1,2})?)',i):\n",
    "        a.append(i)\n",
    "a"
   ]
  },
  {
   "cell_type": "code",
   "execution_count": 155,
   "id": "34b8813a",
   "metadata": {
    "scrolled": false
   },
   "outputs": [
    {
     "data": {
      "text/plain": [
       "['pt.',\n",
       " 'sumber alfaria trijaya, tbk\\ncimuja / 4\\n\\njl hh thamrin no 9 cikokol:\\nnphp + 01.336,238,9-054.000\\njl.']"
      ]
     },
     "execution_count": 155,
     "metadata": {},
     "output_type": "execute_result"
    }
   ],
   "source": [
    "sent_tokens[0:2]"
   ]
  },
  {
   "cell_type": "code",
   "execution_count": 156,
   "id": "6daaa65c",
   "metadata": {},
   "outputs": [
    {
     "data": {
      "text/plain": [
       "'pt. sumber alfaria trijaya, tbk\\ncimuja / 4\\n\\njl hh thamrin no 9 cikokol:\\nnphp + 01.336,238,9-054.000\\njl.'"
      ]
     },
     "execution_count": 156,
     "metadata": {},
     "output_type": "execute_result"
    }
   ],
   "source": [
    "\" \".join(sent_tokens[0:2])"
   ]
  },
  {
   "cell_type": "code",
   "execution_count": 157,
   "id": "c3c42899",
   "metadata": {},
   "outputs": [
    {
     "name": "stdout",
     "output_type": "stream",
     "text": [
      "pt. sumber alfaria trijaya, tbk\n"
     ]
    }
   ],
   "source": [
    "for i in \" \".join(sent_tokens[0:2]).split('\\n'):\n",
    "    break\n",
    "head=i\n",
    "print(head)\n",
    "    "
   ]
  },
  {
   "cell_type": "code",
   "execution_count": 158,
   "id": "2246e7c6",
   "metadata": {},
   "outputs": [],
   "source": [
    "# price = re.findall(r'USD|EUR|€|\\$)\\s?(\\d{1,3}(?:[.,]\\d{3})*(?:[.,]\\d{2}))|(\\d{1,3}(?:[.,]\\d{3})*(?:[.,]\\d{2})?)\\s?(USD|EUR|€|\\$)',text)\n",
    "# price = list(map(float,price))\n",
    "# print(max(price))\n",
    "# x=max(price)"
   ]
  },
  {
   "cell_type": "code",
   "execution_count": 162,
   "id": "c11a18b6",
   "metadata": {
    "scrolled": true
   },
   "outputs": [
    {
     "name": "stdout",
     "output_type": "stream",
     "text": [
      "['pt', '.', 'sumber', 'alfaria', 'trijaya', ',', 'tbk', 'cimuja', '/', '4', 'jl', 'hh', 'thamrin', 'no', '9', 'cikokol', ':', 'nphp', '+', '01.336,238,9-054.000', 'jl', '.', 'raya', 'sumedang', 'cirebon', 'no', '.', 'kec', '.', 'cihal', 'bon', '8989-205-2107hkh3', 'kasir', 'alfa', 'air', 'hnrl', '1', '4', '3,400', '13,600', 'shapes', 'chzdbk', '=', '18,100', '8,100', 'tsel', 'pulsa', '50k', '1', '51,000', '51,000', 'lotal', 'iten', '3', '72,700', 'nai', '72,700', '(', 'erbal', 'ian', '0', 'pn', '(', 'ukti', 'transaksi', 'voucher']\n"
     ]
    }
   ],
   "source": [
    "new_words = word_tokenize(text)\n",
    "print(word_tokenize(text))"
   ]
  },
  {
   "cell_type": "code",
   "execution_count": 163,
   "id": "bba1a60d",
   "metadata": {
    "scrolled": false
   },
   "outputs": [
    {
     "name": "stdout",
     "output_type": "stream",
     "text": [
      "72,700\n"
     ]
    }
   ],
   "source": [
    "nyari_total=[]\n",
    "for i in range(len(new_words)):\n",
    "    if new_words[i]=='iten':\n",
    "#         nyari_total.append(new_words[i+1])\n",
    "          break\n",
    "price=new_words[i+2]\n",
    "print(price)\n",
    "x=price\n",
    "# \" \".join(nyari_total)\n",
    "# # price = re.findall(r'(?<![\\d,])((\\d{1,2},)*\\d{3}|(\\d{1,3}))\\.\\d{2}(?!\\d)',nyari_total)\n",
    "# # st= ''\n",
    "# # st=st.join(price)\n",
    "# # print(st)"
   ]
  },
  {
   "cell_type": "code",
   "execution_count": 161,
   "id": "7266af17",
   "metadata": {},
   "outputs": [
    {
     "data": {
      "text/plain": [
       "[]"
      ]
     },
     "execution_count": 161,
     "metadata": {},
     "output_type": "execute_result"
    }
   ],
   "source": [
    "# a = []\n",
    "# for i in (nyari_total):\n",
    "#     if re.findall(r'(\\d+(?:\\.\\d{1,2})?)',i):\n",
    "#         a.append(i)\n",
    "# a      "
   ]
  },
  {
   "cell_type": "code",
   "execution_count": 66,
   "id": "3ee3e6bf",
   "metadata": {},
   "outputs": [
    {
     "name": "stdout",
     "output_type": "stream",
     "text": [
      "pembelian\n",
      "diskon\n",
      "1,018,000\n"
     ]
    }
   ],
   "source": [
    "# for i in (nyari_total):\n",
    "#     print(i)"
   ]
  },
  {
   "cell_type": "code",
   "execution_count": 49,
   "id": "d16a3a21",
   "metadata": {},
   "outputs": [
    {
     "data": {
      "text/plain": [
       "['pembelian', 'diskon', '1,018,000']"
      ]
     },
     "execution_count": 49,
     "metadata": {},
     "output_type": "execute_result"
    }
   ],
   "source": [
    "# nyari_total"
   ]
  },
  {
   "cell_type": "code",
   "execution_count": 46,
   "id": "7b093467",
   "metadata": {},
   "outputs": [
    {
     "name": "stdout",
     "output_type": "stream",
     "text": [
      "['pt', 'sumber', 'alfaria', 'trijaya', 'tbk', 'cimuja', '4', 'jl', 'hh', 'thamrin', 'no', '9', 'cikokol', 'nphp', '01', '336', '238', '9', '054', '000', 'jl', 'raya', 'sumedang', 'cirebon', 'no', 'kec', 'cihal', 'bon', '8989', '205', '2107hkh3', 'kasir', 'alfa', 'air', 'hnrl', '1', '4', '3', '400', '13', '600', 'shapes', 'chzdbk', '18', '100', '8', '100', 'tsel', 'pulsa', '50k', '1', '51', '000', '51', '000', 'lotal', 'iten', '3', '72', '700', 'nai', '72', '700', 'erbal', 'ian', '0', 'pn', 'ukti', 'transaksi', 'voucher']\n"
     ]
    }
   ],
   "source": [
    "# tokenizer = nltk.RegexpTokenizer(r'\\w+')\n",
    "# new_words = tokenizer.tokenize(text)\n",
    "# print(new_words)"
   ]
  },
  {
   "cell_type": "code",
   "execution_count": 164,
   "id": "56e775cc",
   "metadata": {
    "scrolled": true
   },
   "outputs": [
    {
     "name": "stdout",
     "output_type": "stream",
     "text": [
      "['pt', '.', 'sumber', 'alfaria', 'trijaya', ',', 'tbk', 'cimuja', '/', '4', 'jl', 'hh', 'thamrin', 'no', '9', 'cikokol', ':', 'nphp', '+', '01.336,238,9-054.000', 'jl', '.', 'raya', 'sumedang', 'cirebon', 'no', '.', 'kec', '.', 'cihal', 'bon', '8989-205-2107hkh3', 'kasir', 'alfa', 'air', 'hnrl', '1', '4', '3,400', '13,600', 'shapes', 'chzdbk', '=', '18,100', '8,100', 'tsel', 'pulsa', '50k', '1', '51,000', '51,000', 'lotal', 'iten', '3', '72,700', 'nai', '72,700', '(', 'erbal', 'ian', '0', 'pn', '(', 'ukti', 'transaksi', 'voucher']\n"
     ]
    }
   ],
   "source": [
    "nyari_jenis=[]\n",
    "for i in range(len(new_words)):\n",
    "    nyari_jenis.append(new_words[i])\n",
    "    if new_words[i]=='total':\n",
    "#         nyari_total.append(new_words[i+1])\n",
    "          break\n",
    "jenis = nyari_jenis\n",
    "print(jenis)"
   ]
  },
  {
   "cell_type": "code",
   "execution_count": 165,
   "id": "def3cda1",
   "metadata": {},
   "outputs": [
    {
     "name": "stdout",
     "output_type": "stream",
     "text": [
      "['pt', '.', 'sumber', 'alfaria', 'trijaya', ',', 'tbk', 'cimuja', '/', '4', 'jl', 'hh', 'thamrin', 'no', '9', 'cikokol', ':', 'nphp', '+', '01.336,238,9-054.000', 'jl', '.', 'raya', 'sumedang', 'cirebon', 'no', '.', 'kec', '.', 'cihal', 'bon', '8989-205-2107hkh3', 'kasir']\n"
     ]
    }
   ],
   "source": [
    "nyari_jenisnharga=[]\n",
    "for i in range(len(nyari_jenis)):\n",
    "    nyari_jenisnharga.append(nyari_jenis[i])\n",
    "    if nyari_jenis[i]=='kasir' :\n",
    "        break\n",
    "        \n",
    "print(nyari_jenisnharga)"
   ]
  },
  {
   "cell_type": "code",
   "execution_count": 166,
   "id": "c21fd3c3",
   "metadata": {
    "scrolled": true
   },
   "outputs": [
    {
     "data": {
      "text/plain": [
       "['alfa',\n",
       " 'air',\n",
       " 'hnrl',\n",
       " '1',\n",
       " '3,400',\n",
       " '13,600',\n",
       " 'shapes',\n",
       " 'chzdbk',\n",
       " '=',\n",
       " '18,100',\n",
       " '8,100',\n",
       " 'tsel',\n",
       " 'pulsa',\n",
       " '50k',\n",
       " '1',\n",
       " '51,000',\n",
       " '51,000',\n",
       " 'lotal',\n",
       " 'iten',\n",
       " '3',\n",
       " '72,700',\n",
       " 'nai',\n",
       " '72,700',\n",
       " '(',\n",
       " 'erbal',\n",
       " 'ian',\n",
       " '0',\n",
       " 'pn',\n",
       " '(',\n",
       " 'ukti',\n",
       " 'transaksi',\n",
       " 'voucher']"
      ]
     },
     "execution_count": 166,
     "metadata": {},
     "output_type": "execute_result"
    }
   ],
   "source": [
    "tokens = [token for token in nyari_jenis if token not in nyari_jenisnharga]\n",
    "tokens"
   ]
  },
  {
   "cell_type": "code",
   "execution_count": 168,
   "id": "55421d0c",
   "metadata": {
    "scrolled": true
   },
   "outputs": [
    {
     "data": {
      "text/plain": [
       "['alfa',\n",
       " 'air',\n",
       " 'hnrl',\n",
       " 'shapes',\n",
       " 'chzdbk',\n",
       " 'tsel',\n",
       " 'pulsa',\n",
       " 'lotal',\n",
       " 'iten',\n",
       " 'nai',\n",
       " 'erbal',\n",
       " 'ian',\n",
       " 'pn',\n",
       " 'ukti',\n",
       " 'transaksi',\n",
       " 'voucher']"
      ]
     },
     "execution_count": 168,
     "metadata": {},
     "output_type": "execute_result"
    }
   ],
   "source": [
    "words = [token for token in tokens if  token not in a]\n",
    "words = [token for token in words if token.isalnum()]\n",
    "words"
   ]
  },
  {
   "cell_type": "code",
   "execution_count": 167,
   "id": "2bdfc7e9",
   "metadata": {},
   "outputs": [
    {
     "data": {
      "text/plain": [
       "['1',\n",
       " '3,400',\n",
       " '13,600',\n",
       " '18,100',\n",
       " '8,100',\n",
       " '50k',\n",
       " '1',\n",
       " '51,000',\n",
       " '51,000',\n",
       " '3',\n",
       " '72,700',\n",
       " '72,700',\n",
       " '0']"
      ]
     },
     "execution_count": 167,
     "metadata": {},
     "output_type": "execute_result"
    }
   ],
   "source": [
    "a = []\n",
    "for i in (tokens):\n",
    "    if re.findall(r'(\\d+(?:\\.\\d{1,2})?)',i):\n",
    "        a.append(i)\n",
    "a"
   ]
  },
  {
   "cell_type": "code",
   "execution_count": null,
   "id": "4dc5489d",
   "metadata": {},
   "outputs": [],
   "source": []
  },
  {
   "cell_type": "code",
   "execution_count": null,
   "id": "e9512278",
   "metadata": {},
   "outputs": [],
   "source": []
  },
  {
   "cell_type": "code",
   "execution_count": null,
   "id": "dfc31e1c",
   "metadata": {},
   "outputs": [],
   "source": []
  },
  {
   "cell_type": "code",
   "execution_count": null,
   "id": "d62ec95c",
   "metadata": {},
   "outputs": [],
   "source": []
  }
 ],
 "metadata": {
  "kernelspec": {
   "display_name": "Python 3",
   "language": "python",
   "name": "python3"
  },
  "language_info": {
   "codemirror_mode": {
    "name": "ipython",
    "version": 3
   },
   "file_extension": ".py",
   "mimetype": "text/x-python",
   "name": "python",
   "nbconvert_exporter": "python",
   "pygments_lexer": "ipython3",
   "version": "3.8.8"
  }
 },
 "nbformat": 4,
 "nbformat_minor": 5
}
