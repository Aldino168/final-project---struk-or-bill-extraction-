{
 "cells": [
  {
   "cell_type": "code",
   "execution_count": 1,
   "id": "c0984acf",
   "metadata": {},
   "outputs": [
    {
     "name": "stdout",
     "output_type": "stream",
     "text": [
      "Collecting pytesseract\n",
      "  Using cached pytesseract-0.3.9-py2.py3-none-any.whl (14 kB)\n",
      "Requirement already satisfied: Pillow>=8.0.0 in c:\\users\\rahmat\\anaconda3\\lib\\site-packages (from pytesseract) (8.2.0)\n",
      "Collecting packaging>=21.3\n",
      "  Using cached packaging-21.3-py3-none-any.whl (40 kB)\n",
      "Requirement already satisfied: pyparsing!=3.0.5,>=2.0.2 in c:\\users\\rahmat\\anaconda3\\lib\\site-packages (from packaging>=21.3->pytesseract) (2.4.7)\n",
      "Installing collected packages: packaging, pytesseract\n",
      "  Attempting uninstall: packaging\n",
      "    Found existing installation: packaging 20.9\n",
      "    Uninstalling packaging-20.9:\n",
      "      Successfully uninstalled packaging-20.9\n",
      "Successfully installed packaging-21.3 pytesseract-0.3.9\n"
     ]
    }
   ],
   "source": [
    "!pip install pytesseract"
   ]
  },
  {
   "cell_type": "code",
   "execution_count": 2,
   "id": "80cb30f1",
   "metadata": {},
   "outputs": [],
   "source": [
    "import pytesseract\n",
    "import argparse\n",
    "import cv2\n",
    "import os\n",
    "import pandas as pd\n",
    "import seaborn as sns\n",
    "import matplotlib.pyplot as plt\n",
    "import numpy as np\n",
    "import csv\n",
    "import nltk\n",
    "import re \n",
    "from nltk.tokenize import word_tokenize \n",
    "from nltk.corpus import wordnet"
   ]
  },
  {
   "cell_type": "code",
   "execution_count": 3,
   "id": "5a390187",
   "metadata": {},
   "outputs": [],
   "source": [
    "from PIL import Image"
   ]
  },
  {
   "cell_type": "code",
   "execution_count": 4,
   "id": "8a8b5cb2",
   "metadata": {},
   "outputs": [],
   "source": [
    "image = cv2.imread(\"struk2.jpeg\",0 )"
   ]
  },
  {
   "cell_type": "code",
   "execution_count": 6,
   "id": "ad3626e1",
   "metadata": {},
   "outputs": [],
   "source": [
    "pytesseract.pytesseract.tesseract_cmd = \"C:\\\\Users\\\\Rahmat\\\\AppData\\\\Local\\\\Programs\\\\Tesseract-OCR\\\\tesseract.exe\""
   ]
  },
  {
   "cell_type": "code",
   "execution_count": 7,
   "id": "895b580b",
   "metadata": {},
   "outputs": [
    {
     "name": "stdout",
     "output_type": "stream",
     "text": [
      "pelita dunia electric\n",
      "\n",
      "jl. raya hankam kav.72,\n",
      "jatiranggonjatisampurna,kota bekasi\n",
      "17433\n",
      "\n",
      "struk #: 5 2018-08-14 12:43:44\n",
      "oleh: david silaen : main ig\n",
      "\n",
      "supreme\n",
      "nym 3x2,5 535,000 1 535,000\n",
      "[roll]\n",
      "\n",
      "kapllampu = 92.000 22 484,000\n",
      "\n",
      "jalan\n",
      "\n",
      "total pembelian 23\n",
      "\n",
      "subtotal 1,019,000\n",
      "\n",
      "total\n",
      "\n",
      "diskon\n",
      "\n",
      "total 1,018,000\n",
      "\n",
      "tunal__ 1,018,000\n",
      "\n",
      "kemballan og\n",
      "=~ tak dapat dltukar/dikembalica\n",
      "ee [alasan apapun. sebelum dlbayar\n",
      "\n",
      "akan\n",
      "\n",
      "\n"
     ]
    }
   ],
   "source": [
    "text = (pytesseract.image_to_string(image)).lower()\n",
    "print(text)"
   ]
  },
  {
   "cell_type": "code",
   "execution_count": 9,
   "id": "4570b933",
   "metadata": {},
   "outputs": [
    {
     "name": "stdout",
     "output_type": "stream",
     "text": [
      "2018-08-14\n"
     ]
    }
   ],
   "source": [
    "match = re.findall(r'\\d+[/.-]\\d+[/.-]\\d+',text)\n",
    "st= ''\n",
    "st=st.join(match)\n",
    "print(st)"
   ]
  },
  {
   "cell_type": "code",
   "execution_count": 11,
   "id": "b38370c3",
   "metadata": {},
   "outputs": [
    {
     "name": "stdout",
     "output_type": "stream",
     "text": [
      "2018-08-14\n"
     ]
    }
   ],
   "source": [
    "# l = st.split('/')\n",
    "# add=\"20\"\n",
    "# if len(l[0])==2:\n",
    "#     add+=l[0]\n",
    "#     l[0]=add\n",
    "# d='/'\n",
    "# d=d.join(l)\n",
    "# st = d\n",
    "# print(st)"
   ]
  },
  {
   "cell_type": "code",
   "execution_count": 12,
   "id": "4891c0ed",
   "metadata": {},
   "outputs": [
    {
     "data": {
      "text/plain": [
       "True"
      ]
     },
     "execution_count": 12,
     "metadata": {},
     "output_type": "execute_result"
    }
   ],
   "source": [
    "nltk.download('punkt',quiet=True)\n"
   ]
  },
  {
   "cell_type": "code",
   "execution_count": 13,
   "id": "cdd22dc2",
   "metadata": {
    "scrolled": true
   },
   "outputs": [
    {
     "name": "stdout",
     "output_type": "stream",
     "text": [
      "['pelita dunia electric\\n\\njl.', 'raya hankam kav.72,\\njatiranggonjatisampurna,kota bekasi\\n17433\\n\\nstruk #: 5 2018-08-14 12:43:44\\noleh: david silaen : main ig\\n\\nsupreme\\nnym 3x2,5 535,000 1 535,000\\n[roll]\\n\\nkapllampu = 92.000 22 484,000\\n\\njalan\\n\\ntotal pembelian 23\\n\\nsubtotal 1,019,000\\n\\ntotal\\n\\ndiskon\\n\\ntotal 1,018,000\\n\\ntunal__ 1,018,000\\n\\nkemballan og\\n=~ tak dapat dltukar/dikembalica\\nee [alasan apapun.', 'sebelum dlbayar\\n\\nakan']\n"
     ]
    }
   ],
   "source": [
    "sent_tokens = nltk.sent_tokenize(text)\n",
    "print(sent_tokens)"
   ]
  },
  {
   "cell_type": "code",
   "execution_count": 15,
   "id": "4b834bb7",
   "metadata": {},
   "outputs": [
    {
     "data": {
      "text/plain": [
       "'pelita dunia electric'"
      ]
     },
     "execution_count": 15,
     "metadata": {},
     "output_type": "execute_result"
    }
   ],
   "source": [
    "sent_tokens[0].splitlines()[0]"
   ]
  },
  {
   "cell_type": "code",
   "execution_count": 17,
   "id": "45329cb9",
   "metadata": {
    "scrolled": true
   },
   "outputs": [
    {
     "ename": "error",
     "evalue": "unbalanced parenthesis at position 12",
     "output_type": "error",
     "traceback": [
      "\u001b[1;31m---------------------------------------------------------------------------\u001b[0m",
      "\u001b[1;31merror\u001b[0m                                     Traceback (most recent call last)",
      "\u001b[1;32m<ipython-input-17-a803374e36a7>\u001b[0m in \u001b[0;36m<module>\u001b[1;34m\u001b[0m\n\u001b[1;32m----> 1\u001b[1;33m \u001b[0mprice\u001b[0m \u001b[1;33m=\u001b[0m \u001b[0mre\u001b[0m\u001b[1;33m.\u001b[0m\u001b[0mfindall\u001b[0m\u001b[1;33m(\u001b[0m\u001b[1;34mr'USD|EUR|€|\\$)\\s?(\\d{1,3}(?:[.,]\\d{3})*(?:[.,]\\d{2}))|(\\d{1,3}(?:[.,]\\d{3})*(?:[.,]\\d{2})?)\\s?(USD|EUR|€|\\$)'\u001b[0m\u001b[1;33m,\u001b[0m\u001b[0mtext\u001b[0m\u001b[1;33m)\u001b[0m\u001b[1;33m\u001b[0m\u001b[1;33m\u001b[0m\u001b[0m\n\u001b[0m\u001b[0;32m      2\u001b[0m \u001b[0mprice\u001b[0m \u001b[1;33m=\u001b[0m \u001b[0mlist\u001b[0m\u001b[1;33m(\u001b[0m\u001b[0mmap\u001b[0m\u001b[1;33m(\u001b[0m\u001b[0mfloat\u001b[0m\u001b[1;33m,\u001b[0m\u001b[0mprice\u001b[0m\u001b[1;33m)\u001b[0m\u001b[1;33m)\u001b[0m\u001b[1;33m\u001b[0m\u001b[1;33m\u001b[0m\u001b[0m\n\u001b[0;32m      3\u001b[0m \u001b[0mprint\u001b[0m\u001b[1;33m(\u001b[0m\u001b[0mmax\u001b[0m\u001b[1;33m(\u001b[0m\u001b[0mprice\u001b[0m\u001b[1;33m)\u001b[0m\u001b[1;33m)\u001b[0m\u001b[1;33m\u001b[0m\u001b[1;33m\u001b[0m\u001b[0m\n\u001b[0;32m      4\u001b[0m \u001b[0mx\u001b[0m\u001b[1;33m=\u001b[0m\u001b[0mmax\u001b[0m\u001b[1;33m(\u001b[0m\u001b[0mprice\u001b[0m\u001b[1;33m)\u001b[0m\u001b[1;33m\u001b[0m\u001b[1;33m\u001b[0m\u001b[0m\n",
      "\u001b[1;32m~\\anaconda3\\lib\\re.py\u001b[0m in \u001b[0;36mfindall\u001b[1;34m(pattern, string, flags)\u001b[0m\n\u001b[0;32m    239\u001b[0m \u001b[1;33m\u001b[0m\u001b[0m\n\u001b[0;32m    240\u001b[0m     Empty matches are included in the result.\"\"\"\n\u001b[1;32m--> 241\u001b[1;33m     \u001b[1;32mreturn\u001b[0m \u001b[0m_compile\u001b[0m\u001b[1;33m(\u001b[0m\u001b[0mpattern\u001b[0m\u001b[1;33m,\u001b[0m \u001b[0mflags\u001b[0m\u001b[1;33m)\u001b[0m\u001b[1;33m.\u001b[0m\u001b[0mfindall\u001b[0m\u001b[1;33m(\u001b[0m\u001b[0mstring\u001b[0m\u001b[1;33m)\u001b[0m\u001b[1;33m\u001b[0m\u001b[1;33m\u001b[0m\u001b[0m\n\u001b[0m\u001b[0;32m    242\u001b[0m \u001b[1;33m\u001b[0m\u001b[0m\n\u001b[0;32m    243\u001b[0m \u001b[1;32mdef\u001b[0m \u001b[0mfinditer\u001b[0m\u001b[1;33m(\u001b[0m\u001b[0mpattern\u001b[0m\u001b[1;33m,\u001b[0m \u001b[0mstring\u001b[0m\u001b[1;33m,\u001b[0m \u001b[0mflags\u001b[0m\u001b[1;33m=\u001b[0m\u001b[1;36m0\u001b[0m\u001b[1;33m)\u001b[0m\u001b[1;33m:\u001b[0m\u001b[1;33m\u001b[0m\u001b[1;33m\u001b[0m\u001b[0m\n",
      "\u001b[1;32m~\\anaconda3\\lib\\re.py\u001b[0m in \u001b[0;36m_compile\u001b[1;34m(pattern, flags)\u001b[0m\n\u001b[0;32m    302\u001b[0m     \u001b[1;32mif\u001b[0m \u001b[1;32mnot\u001b[0m \u001b[0msre_compile\u001b[0m\u001b[1;33m.\u001b[0m\u001b[0misstring\u001b[0m\u001b[1;33m(\u001b[0m\u001b[0mpattern\u001b[0m\u001b[1;33m)\u001b[0m\u001b[1;33m:\u001b[0m\u001b[1;33m\u001b[0m\u001b[1;33m\u001b[0m\u001b[0m\n\u001b[0;32m    303\u001b[0m         \u001b[1;32mraise\u001b[0m \u001b[0mTypeError\u001b[0m\u001b[1;33m(\u001b[0m\u001b[1;34m\"first argument must be string or compiled pattern\"\u001b[0m\u001b[1;33m)\u001b[0m\u001b[1;33m\u001b[0m\u001b[1;33m\u001b[0m\u001b[0m\n\u001b[1;32m--> 304\u001b[1;33m     \u001b[0mp\u001b[0m \u001b[1;33m=\u001b[0m \u001b[0msre_compile\u001b[0m\u001b[1;33m.\u001b[0m\u001b[0mcompile\u001b[0m\u001b[1;33m(\u001b[0m\u001b[0mpattern\u001b[0m\u001b[1;33m,\u001b[0m \u001b[0mflags\u001b[0m\u001b[1;33m)\u001b[0m\u001b[1;33m\u001b[0m\u001b[1;33m\u001b[0m\u001b[0m\n\u001b[0m\u001b[0;32m    305\u001b[0m     \u001b[1;32mif\u001b[0m \u001b[1;32mnot\u001b[0m \u001b[1;33m(\u001b[0m\u001b[0mflags\u001b[0m \u001b[1;33m&\u001b[0m \u001b[0mDEBUG\u001b[0m\u001b[1;33m)\u001b[0m\u001b[1;33m:\u001b[0m\u001b[1;33m\u001b[0m\u001b[1;33m\u001b[0m\u001b[0m\n\u001b[0;32m    306\u001b[0m         \u001b[1;32mif\u001b[0m \u001b[0mlen\u001b[0m\u001b[1;33m(\u001b[0m\u001b[0m_cache\u001b[0m\u001b[1;33m)\u001b[0m \u001b[1;33m>=\u001b[0m \u001b[0m_MAXCACHE\u001b[0m\u001b[1;33m:\u001b[0m\u001b[1;33m\u001b[0m\u001b[1;33m\u001b[0m\u001b[0m\n",
      "\u001b[1;32m~\\anaconda3\\lib\\sre_compile.py\u001b[0m in \u001b[0;36mcompile\u001b[1;34m(p, flags)\u001b[0m\n\u001b[0;32m    762\u001b[0m     \u001b[1;32mif\u001b[0m \u001b[0misstring\u001b[0m\u001b[1;33m(\u001b[0m\u001b[0mp\u001b[0m\u001b[1;33m)\u001b[0m\u001b[1;33m:\u001b[0m\u001b[1;33m\u001b[0m\u001b[1;33m\u001b[0m\u001b[0m\n\u001b[0;32m    763\u001b[0m         \u001b[0mpattern\u001b[0m \u001b[1;33m=\u001b[0m \u001b[0mp\u001b[0m\u001b[1;33m\u001b[0m\u001b[1;33m\u001b[0m\u001b[0m\n\u001b[1;32m--> 764\u001b[1;33m         \u001b[0mp\u001b[0m \u001b[1;33m=\u001b[0m \u001b[0msre_parse\u001b[0m\u001b[1;33m.\u001b[0m\u001b[0mparse\u001b[0m\u001b[1;33m(\u001b[0m\u001b[0mp\u001b[0m\u001b[1;33m,\u001b[0m \u001b[0mflags\u001b[0m\u001b[1;33m)\u001b[0m\u001b[1;33m\u001b[0m\u001b[1;33m\u001b[0m\u001b[0m\n\u001b[0m\u001b[0;32m    765\u001b[0m     \u001b[1;32melse\u001b[0m\u001b[1;33m:\u001b[0m\u001b[1;33m\u001b[0m\u001b[1;33m\u001b[0m\u001b[0m\n\u001b[0;32m    766\u001b[0m         \u001b[0mpattern\u001b[0m \u001b[1;33m=\u001b[0m \u001b[1;32mNone\u001b[0m\u001b[1;33m\u001b[0m\u001b[1;33m\u001b[0m\u001b[0m\n",
      "\u001b[1;32m~\\anaconda3\\lib\\sre_parse.py\u001b[0m in \u001b[0;36mparse\u001b[1;34m(str, flags, state)\u001b[0m\n\u001b[0;32m    960\u001b[0m     \u001b[1;32mif\u001b[0m \u001b[0msource\u001b[0m\u001b[1;33m.\u001b[0m\u001b[0mnext\u001b[0m \u001b[1;32mis\u001b[0m \u001b[1;32mnot\u001b[0m \u001b[1;32mNone\u001b[0m\u001b[1;33m:\u001b[0m\u001b[1;33m\u001b[0m\u001b[1;33m\u001b[0m\u001b[0m\n\u001b[0;32m    961\u001b[0m         \u001b[1;32massert\u001b[0m \u001b[0msource\u001b[0m\u001b[1;33m.\u001b[0m\u001b[0mnext\u001b[0m \u001b[1;33m==\u001b[0m \u001b[1;34m\")\"\u001b[0m\u001b[1;33m\u001b[0m\u001b[1;33m\u001b[0m\u001b[0m\n\u001b[1;32m--> 962\u001b[1;33m         \u001b[1;32mraise\u001b[0m \u001b[0msource\u001b[0m\u001b[1;33m.\u001b[0m\u001b[0merror\u001b[0m\u001b[1;33m(\u001b[0m\u001b[1;34m\"unbalanced parenthesis\"\u001b[0m\u001b[1;33m)\u001b[0m\u001b[1;33m\u001b[0m\u001b[1;33m\u001b[0m\u001b[0m\n\u001b[0m\u001b[0;32m    963\u001b[0m \u001b[1;33m\u001b[0m\u001b[0m\n\u001b[0;32m    964\u001b[0m     \u001b[1;32mif\u001b[0m \u001b[0mflags\u001b[0m \u001b[1;33m&\u001b[0m \u001b[0mSRE_FLAG_DEBUG\u001b[0m\u001b[1;33m:\u001b[0m\u001b[1;33m\u001b[0m\u001b[1;33m\u001b[0m\u001b[0m\n",
      "\u001b[1;31merror\u001b[0m: unbalanced parenthesis at position 12"
     ]
    }
   ],
   "source": [
    "# price = re.findall(r'USD|EUR|€|\\$)\\s?(\\d{1,3}(?:[.,]\\d{3})*(?:[.,]\\d{2}))|(\\d{1,3}(?:[.,]\\d{3})*(?:[.,]\\d{2})?)\\s?(USD|EUR|€|\\$)',text)\n",
    "# price = list(map(float,price))\n",
    "# print(max(price))\n",
    "# x=max(price)"
   ]
  },
  {
   "cell_type": "code",
   "execution_count": 62,
   "id": "3cf5396a",
   "metadata": {
    "scrolled": false
   },
   "outputs": [
    {
     "data": {
      "text/plain": [
       "'pembelian diskon 1,018,000'"
      ]
     },
     "execution_count": 62,
     "metadata": {},
     "output_type": "execute_result"
    }
   ],
   "source": [
    "nyari_total=[]\n",
    "for i in range(len(new_words)):\n",
    "    if new_words[i]=='total':\n",
    "        nyari_total.append(new_words[i+1])\n",
    "# price=new_words[i+1]\n",
    "# print(price)\n",
    "# x=price\n",
    "\" \".join(nyari_total)\n",
    "# # price = re.findall(r'(?<![\\d,])((\\d{1,2},)*\\d{3}|(\\d{1,3}))\\.\\d{2}(?!\\d)',nyari_total)\n",
    "# # st= ''\n",
    "# # st=st.join(price)\n",
    "# # print(st)"
   ]
  },
  {
   "cell_type": "code",
   "execution_count": 68,
   "id": "135628be",
   "metadata": {},
   "outputs": [
    {
     "data": {
      "text/plain": [
       "['1,018,000']"
      ]
     },
     "execution_count": 68,
     "metadata": {},
     "output_type": "execute_result"
    }
   ],
   "source": [
    "a = []\n",
    "for i in (nyari_total):\n",
    "    if re.findall(r'(\\d+(?:\\.\\d{1,2})?)',i):\n",
    "        a.append(i)\n",
    "a      "
   ]
  },
  {
   "cell_type": "code",
   "execution_count": 66,
   "id": "31aef330",
   "metadata": {},
   "outputs": [
    {
     "name": "stdout",
     "output_type": "stream",
     "text": [
      "pembelian\n",
      "diskon\n",
      "1,018,000\n"
     ]
    }
   ],
   "source": [
    "for i in (nyari_total):\n",
    "    print(i)"
   ]
  },
  {
   "cell_type": "code",
   "execution_count": 49,
   "id": "102c1188",
   "metadata": {},
   "outputs": [
    {
     "data": {
      "text/plain": [
       "['pembelian', 'diskon', '1,018,000']"
      ]
     },
     "execution_count": 49,
     "metadata": {},
     "output_type": "execute_result"
    }
   ],
   "source": [
    "nyari_total"
   ]
  },
  {
   "cell_type": "code",
   "execution_count": 21,
   "id": "47c63d26",
   "metadata": {
    "scrolled": true
   },
   "outputs": [
    {
     "name": "stdout",
     "output_type": "stream",
     "text": [
      "['pelita', 'dunia', 'electric', 'jl', '.', 'raya', 'hankam', 'kav.72', ',', 'jatiranggonjatisampurna', ',', 'kota', 'bekasi', '17433', 'struk', '#', ':', '5', '2018-08-14', '12:43:44', 'oleh', ':', 'david', 'silaen', ':', 'main', 'ig', 'supreme', 'nym', '3x2,5', '535,000', '1', '535,000', '[', 'roll', ']', 'kapllampu', '=', '92.000', '22', '484,000', 'jalan', 'total', 'pembelian', '23', 'subtotal', '1,019,000', 'total', 'diskon', 'total', '1,018,000', 'tunal__', '1,018,000', 'kemballan', 'og', '=~', 'tak', 'dapat', 'dltukar/dikembalica', 'ee', '[', 'alasan', 'apapun', '.', 'sebelum', 'dlbayar', 'akan']\n"
     ]
    }
   ],
   "source": [
    "new_words = word_tokenize(text)\n",
    "print(word_tokenize(text))"
   ]
  },
  {
   "cell_type": "code",
   "execution_count": 20,
   "id": "3ab92816",
   "metadata": {},
   "outputs": [
    {
     "name": "stdout",
     "output_type": "stream",
     "text": [
      "['pelita', 'dunia', 'electric', 'jl', 'raya', 'hankam', 'kav', '72', 'jatiranggonjatisampurna', 'kota', 'bekasi', '17433', 'struk', '5', '2018', '08', '14', '12', '43', '44', 'oleh', 'david', 'silaen', 'main', 'ig', 'supreme', 'nym', '3x2', '5', '535', '000', '1', '535', '000', 'roll', 'kapllampu', '92', '000', '22', '484', '000', 'jalan', 'total', 'pembelian', '23', 'subtotal', '1', '019', '000', 'total', 'diskon', 'total', '1', '018', '000', 'tunal__', '1', '018', '000', 'kemballan', 'og', 'tak', 'dapat', 'dltukar', 'dikembalica', 'ee', 'alasan', 'apapun', 'sebelum', 'dlbayar', 'akan']\n"
     ]
    }
   ],
   "source": [
    "tokenizer = nltk.RegexpTokenizer(r'\\w+')\n",
    "new_words = tokenizer.tokenize(text)\n",
    "print(new_words)"
   ]
  }
 ],
 "metadata": {
  "kernelspec": {
   "display_name": "Python 3",
   "language": "python",
   "name": "python3"
  },
  "language_info": {
   "codemirror_mode": {
    "name": "ipython",
    "version": 3
   },
   "file_extension": ".py",
   "mimetype": "text/x-python",
   "name": "python",
   "nbconvert_exporter": "python",
   "pygments_lexer": "ipython3",
   "version": "3.8.8"
  }
 },
 "nbformat": 4,
 "nbformat_minor": 5
}
