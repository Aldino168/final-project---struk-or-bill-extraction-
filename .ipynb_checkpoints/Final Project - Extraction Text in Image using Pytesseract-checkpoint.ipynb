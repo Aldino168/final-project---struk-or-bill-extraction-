{
 "cells": [
  {
   "cell_type": "code",
   "execution_count": null,
   "id": "a639ee04",
   "metadata": {},
   "outputs": [],
   "source": [
    "# !pip install pytesseract"
   ]
  },
  {
   "cell_type": "markdown",
   "id": "33d8ec27",
   "metadata": {},
   "source": [
    "# import library"
   ]
  },
  {
   "cell_type": "code",
   "execution_count": 1,
   "id": "d26ca21d",
   "metadata": {},
   "outputs": [],
   "source": [
    "import pytesseract\n",
    "import argparse\n",
    "import cv2\n",
    "import os\n",
    "import pandas as pd\n",
    "import seaborn as sns\n",
    "import matplotlib.pyplot as plt\n",
    "import numpy as np\n",
    "import csv\n",
    "import nltk\n",
    "import re \n",
    "from nltk.tokenize import word_tokenize \n",
    "from nltk.corpus import wordnet\n",
    "from PIL import Image"
   ]
  },
  {
   "cell_type": "markdown",
   "id": "f68c8b0a",
   "metadata": {},
   "source": [
    "# settings pytesseract"
   ]
  },
  {
   "cell_type": "code",
   "execution_count": 2,
   "id": "79f40bcf",
   "metadata": {},
   "outputs": [],
   "source": [
    "pytesseract.pytesseract.tesseract_cmd = \"Tesseract-OCR/tesseract.exe\""
   ]
  },
  {
   "cell_type": "markdown",
   "id": "8a208502",
   "metadata": {},
   "source": [
    "# read image n extract text"
   ]
  },
  {
   "cell_type": "code",
   "execution_count": 3,
   "id": "9cf95ef6",
   "metadata": {},
   "outputs": [],
   "source": [
    "image = cv2.imread(\"dataset-struk-alfa/struk1.jpg\",0 )"
   ]
  },
  {
   "cell_type": "code",
   "execution_count": 4,
   "id": "790ca5bf",
   "metadata": {
    "scrolled": true
   },
   "outputs": [
    {
     "name": "stdout",
     "output_type": "stream",
     "text": [
      "pt. sumber alfaria trijaya, tbk\n",
      "cimuja / 4\n",
      "\n",
      "jl hh thamrin no 9 cikokol:\n",
      "nphp + 01.336,238,9-054.000\n",
      "jl. raya sumedang cirebon no. kec. cihal\n",
      "bon  8989-205-2107hkh3 kasir\n",
      "\n",
      "alfa air hnrl 1 4 3,400 13,600\n",
      "shapes chzdbk = 18,100 8,100\n",
      "tsel pulsa 50k 1 51,000 51,000\n",
      "\n",
      "lotal iten 3 72,700\n",
      "nai 72,700\n",
      "(erbal ian 0\n",
      "pn (\n",
      "\n",
      "ukti transaksi voucher\n",
      "\n"
     ]
    }
   ],
   "source": [
    "text = (pytesseract.image_to_string(image)).lower()\n",
    "print(text)"
   ]
  },
  {
   "cell_type": "markdown",
   "id": "2af6426f",
   "metadata": {},
   "source": [
    "# find datetime"
   ]
  },
  {
   "cell_type": "code",
   "execution_count": 5,
   "id": "74b18f3b",
   "metadata": {},
   "outputs": [
    {
     "name": "stdout",
     "output_type": "stream",
     "text": [
      "9-054.0008989-205-2107\n"
     ]
    }
   ],
   "source": [
    "match = re.findall(r'\\d+[/.-]\\d+[/.-]\\d+',text)\n",
    "st= ''\n",
    "st=st.join(match)\n",
    "print(st)"
   ]
  },
  {
   "cell_type": "markdown",
   "id": "682cf8e1",
   "metadata": {},
   "source": [
    "# sentence tokenize from extraction text"
   ]
  },
  {
   "cell_type": "code",
   "execution_count": 6,
   "id": "83f76fac",
   "metadata": {},
   "outputs": [
    {
     "data": {
      "text/plain": [
       "True"
      ]
     },
     "execution_count": 6,
     "metadata": {},
     "output_type": "execute_result"
    }
   ],
   "source": [
    "nltk.download('punkt',quiet=True)"
   ]
  },
  {
   "cell_type": "code",
   "execution_count": 7,
   "id": "8f2176bb",
   "metadata": {
    "scrolled": true
   },
   "outputs": [
    {
     "name": "stdout",
     "output_type": "stream",
     "text": [
      "['pt.', 'sumber alfaria trijaya, tbk\\ncimuja / 4\\n\\njl hh thamrin no 9 cikokol:\\nnphp + 01.336,238,9-054.000\\njl.', 'raya sumedang cirebon no.', 'kec.', 'cihal\\nbon  8989-205-2107hkh3 kasir\\n\\nalfa air hnrl 1 4 3,400 13,600\\nshapes chzdbk = 18,100 8,100\\ntsel pulsa 50k 1 51,000 51,000\\n\\nlotal iten 3 72,700\\nnai 72,700\\n(erbal ian 0\\npn (\\n\\nukti transaksi voucher']\n"
     ]
    }
   ],
   "source": [
    "sent_tokens = nltk.sent_tokenize(text)\n",
    "print(sent_tokens)"
   ]
  },
  {
   "cell_type": "markdown",
   "id": "796605bd",
   "metadata": {},
   "source": [
    "# step by step find feature product n price from extraction text"
   ]
  },
  {
   "cell_type": "code",
   "execution_count": 8,
   "id": "25b266de",
   "metadata": {},
   "outputs": [
    {
     "data": {
      "text/plain": [
       "['cihal\\nbon  8989-205-2107hkh3 kasir\\n\\nalfa air hnrl 1 4 3,400 13,600\\nshapes chzdbk = 18,100 8,100\\ntsel pulsa 50k 1 51,000 51,000\\n\\nlotal iten 3 72,700\\nnai 72,700\\n(erbal ian 0\\npn (\\n\\nukti transaksi voucher']"
      ]
     },
     "execution_count": 8,
     "metadata": {},
     "output_type": "execute_result"
    }
   ],
   "source": [
    "nyari_pakain=[]\n",
    "for i in sent_tokens:\n",
    "    if \"kasir\" in i:\n",
    "        nyari_pakain.append(i)\n",
    "nyari_pakain"
   ]
  },
  {
   "cell_type": "code",
   "execution_count": 9,
   "id": "2eb31bf4",
   "metadata": {},
   "outputs": [
    {
     "data": {
      "text/plain": [
       "['cihal',\n",
       " 'bon  8989-205-2107hkh3 kasir',\n",
       " '',\n",
       " 'alfa air hnrl 1 4 3,400 13,600',\n",
       " 'shapes chzdbk = 18,100 8,100',\n",
       " 'tsel pulsa 50k 1 51,000 51,000',\n",
       " '',\n",
       " 'lotal iten 3 72,700',\n",
       " 'nai 72,700',\n",
       " '(erbal ian 0',\n",
       " 'pn (',\n",
       " '',\n",
       " 'ukti transaksi voucher']"
      ]
     },
     "execution_count": 9,
     "metadata": {},
     "output_type": "execute_result"
    }
   ],
   "source": [
    "hasil_nyari_pakain=nyari_pakain[0].split(\"\\n\")\n",
    "hasil_nyari_pakain"
   ]
  },
  {
   "cell_type": "code",
   "execution_count": 10,
   "id": "47f93b29",
   "metadata": {},
   "outputs": [
    {
     "data": {
      "text/plain": [
       "['ukti transaksi voucher',\n",
       " 'cihal',\n",
       " 'bon  8989-205-2107hkh3 kasir',\n",
       " '',\n",
       " 'alfa air hnrl 1 4 3,400 13,600',\n",
       " 'shapes chzdbk = 18,100 8,100',\n",
       " 'tsel pulsa 50k 1 51,000 51,000',\n",
       " '']"
      ]
     },
     "execution_count": 10,
     "metadata": {},
     "output_type": "execute_result"
    }
   ],
   "source": [
    "hasil=[]\n",
    "for i in range(len(hasil_nyari_pakain)):\n",
    "    hasil.append(hasil_nyari_pakain[i-1])\n",
    "    if \"lotal\" in hasil_nyari_pakain[i]:\n",
    "        break\n",
    "        \n",
    "hasil"
   ]
  },
  {
   "cell_type": "code",
   "execution_count": 11,
   "id": "917dcfa3",
   "metadata": {},
   "outputs": [
    {
     "data": {
      "text/plain": [
       "['ukti transaksi voucher', 'cihal', 'bon  8989-205-2107hkh3 kasir']"
      ]
     },
     "execution_count": 11,
     "metadata": {},
     "output_type": "execute_result"
    }
   ],
   "source": [
    "kasir=[]\n",
    "for i in range(len(hasil)):\n",
    "    kasir.append(hasil[i])\n",
    "    if \"kasir\" in hasil[i]:\n",
    "        \n",
    "        break\n",
    "        \n",
    "kasir"
   ]
  },
  {
   "cell_type": "code",
   "execution_count": 12,
   "id": "b6aaa8ca",
   "metadata": {
    "scrolled": true
   },
   "outputs": [
    {
     "data": {
      "text/plain": [
       "['',\n",
       " 'alfa air hnrl 1 4 3,400 13,600',\n",
       " 'shapes chzdbk = 18,100 8,100',\n",
       " 'tsel pulsa 50k 1 51,000 51,000',\n",
       " '']"
      ]
     },
     "execution_count": 12,
     "metadata": {},
     "output_type": "execute_result"
    }
   ],
   "source": [
    "tokens = [token for token in hasil if token not in kasir]\n",
    "tokens"
   ]
  },
  {
   "cell_type": "markdown",
   "id": "72011de6",
   "metadata": {},
   "source": [
    "# feature product n price"
   ]
  },
  {
   "cell_type": "code",
   "execution_count": 13,
   "id": "16cbf939",
   "metadata": {},
   "outputs": [
    {
     "data": {
      "text/plain": [
       "['alfa air hnrl 1 4 3,400 13,600',\n",
       " 'shapes chzdbk = 18,100 8,100',\n",
       " 'tsel pulsa 50k 1 51,000 51,000']"
      ]
     },
     "execution_count": 13,
     "metadata": {},
     "output_type": "execute_result"
    }
   ],
   "source": [
    "a = []\n",
    "for i in (tokens):\n",
    "    if re.findall(r'(\\d+(?:\\.\\d{1,2})?)',i):\n",
    "        a.append(i)\n",
    "a"
   ]
  },
  {
   "cell_type": "code",
   "execution_count": 14,
   "id": "9cf86d3c",
   "metadata": {
    "scrolled": true
   },
   "outputs": [
    {
     "name": "stdout",
     "output_type": "stream",
     "text": [
      "['alfa', 'air', 'hnrl', '1', '4', '3,400', '13,600', 'angka']\n",
      "alfa\n",
      "air\n",
      "hnrl\n",
      "1\n",
      "4\n",
      "3,400\n",
      "13,600\n",
      "angka\n",
      "['shapes', 'chzdbk', '=', '18,100', '8,100', 'angka']\n",
      "shapes\n",
      "chzdbk\n",
      "=\n",
      "18,100\n",
      "8,100\n",
      "angka\n",
      "['tsel', 'pulsa', '50k', '1', '51,000', '51,000', 'angka']\n",
      "tsel\n",
      "pulsa\n",
      "50k\n",
      "1\n",
      "51,000\n",
      "51,000\n",
      "angka\n"
     ]
    },
    {
     "data": {
      "text/plain": [
       "['alfa',\n",
       " 'air',\n",
       " 'hnrl',\n",
       " '1',\n",
       " '4',\n",
       " 'angka',\n",
       " 'shapes',\n",
       " 'chzdbk',\n",
       " 'angka',\n",
       " 'tsel',\n",
       " 'pulsa',\n",
       " '50k',\n",
       " '1',\n",
       " 'angka']"
      ]
     },
     "execution_count": 14,
     "metadata": {},
     "output_type": "execute_result"
    }
   ],
   "source": [
    "words = []            \n",
    "for i in range(len(a)):\n",
    "    j = word_tokenize(a[i])+[\"angka\"]\n",
    "    print(j)\n",
    "    for k in range(len(j)):\n",
    "        print(j[k])\n",
    "        if j[k].isalnum():\n",
    "            words.append(j[k])\n",
    "words"
   ]
  },
  {
   "cell_type": "markdown",
   "id": "c691cebd",
   "metadata": {},
   "source": [
    "# feature product"
   ]
  },
  {
   "cell_type": "code",
   "execution_count": 15,
   "id": "7ff2212b",
   "metadata": {},
   "outputs": [
    {
     "data": {
      "text/plain": [
       "['alfa air hnrl 1 4 ', ' shapes chzdbk ', ' tsel pulsa 50k 1 ', '']"
      ]
     },
     "execution_count": 15,
     "metadata": {},
     "output_type": "execute_result"
    }
   ],
   "source": [
    "f = \" \".join(words)\n",
    "f.split(\"angka\")"
   ]
  },
  {
   "cell_type": "code",
   "execution_count": 16,
   "id": "feb52067",
   "metadata": {
    "scrolled": true
   },
   "outputs": [
    {
     "data": {
      "text/plain": [
       "['3,400',\n",
       " '13,600',\n",
       " '999,999',\n",
       " '18,100',\n",
       " '8,100',\n",
       " '999,999',\n",
       " '51,000',\n",
       " '51,000',\n",
       " '999,999']"
      ]
     },
     "execution_count": 16,
     "metadata": {},
     "output_type": "execute_result"
    }
   ],
   "source": [
    "selain_words = []\n",
    "for i in range(len(a)):\n",
    "    j = word_tokenize(a[i])+[\"999,999\"]\n",
    "#     print(j)\n",
    "    for k in range(len(j)):\n",
    "#         print(j[k])\n",
    "        if re.findall(r'([0-9]{1,3}(?=\\,))',j[k]):\n",
    "            selain_words.append(j[k])\n",
    "selain_words"
   ]
  },
  {
   "cell_type": "markdown",
   "id": "688cb882",
   "metadata": {},
   "source": [
    "# feature price"
   ]
  },
  {
   "cell_type": "code",
   "execution_count": 17,
   "id": "c86752a2",
   "metadata": {},
   "outputs": [
    {
     "data": {
      "text/plain": [
       "['13,600', '8,100', '51,000']"
      ]
     },
     "execution_count": 17,
     "metadata": {},
     "output_type": "execute_result"
    }
   ],
   "source": [
    "harganya=[]\n",
    "for i in range(len(selain_words)):\n",
    "    if selain_words[i]==\"999,999\":\n",
    "        harganya.append(selain_words[i-1])\n",
    "        continue\n",
    "# harganya=selain_words[i-1]\n",
    "# print(harganya)\n",
    "harganya"
   ]
  },
  {
   "cell_type": "markdown",
   "id": "bb921a95",
   "metadata": {},
   "source": [
    "# feature name of corporate"
   ]
  },
  {
   "cell_type": "code",
   "execution_count": 18,
   "id": "dc655de9",
   "metadata": {},
   "outputs": [
    {
     "name": "stdout",
     "output_type": "stream",
     "text": [
      "pt. sumber alfaria trijaya, tbk\n"
     ]
    }
   ],
   "source": [
    "sent_tokens[0:2]\n",
    "\" \".join(sent_tokens[0:2])\n",
    "for i in \" \".join(sent_tokens[0:2]).split('\\n'):\n",
    "    break\n",
    "head=i\n",
    "print(head)"
   ]
  },
  {
   "cell_type": "markdown",
   "id": "cb9671e5",
   "metadata": {},
   "source": [
    "# step selanjutnya :\n",
    "* perlu penanganan feature extraction seperti word normalization\n",
    "* perlu penanganan untuk fitur yang gak kebaca ocr, seperti tanggal dan product\n",
    "* melakukan ekstraksi pada struk yang ada diskon nya.\n",
    "* kalau bisa ambil fitur kuantitas dari tiap jenis belanjaannya (opsional).\n",
    "* import semua hasil dari ekstraksi kedalam bentuk csv atau json atau pandas dataframe.\n",
    "* kalau temen temen punya step yang lebih mujarab silakan direlisasikan aja, biar kita bisa lebih efisien. dan kalau ada yang ingin disampaikan, langsung aja disampaiin di grup ya hehehe.\n"
   ]
  }
 ],
 "metadata": {
  "kernelspec": {
   "display_name": "Python 3",
   "language": "python",
   "name": "python3"
  },
  "language_info": {
   "codemirror_mode": {
    "name": "ipython",
    "version": 3
   },
   "file_extension": ".py",
   "mimetype": "text/x-python",
   "name": "python",
   "nbconvert_exporter": "python",
   "pygments_lexer": "ipython3",
   "version": "3.8.8"
  }
 },
 "nbformat": 4,
 "nbformat_minor": 5
}
